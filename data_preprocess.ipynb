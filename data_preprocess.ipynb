{
 "cells": [
  {
   "cell_type": "code",
   "execution_count": 1,
   "metadata": {},
   "outputs": [],
   "source": [
    "import pandas as pd\n",
    "import numpy as np"
   ]
  },
  {
   "cell_type": "code",
   "execution_count": 2,
   "metadata": {},
   "outputs": [],
   "source": [
    "# load data/raw/faitguePros.csv\n",
    "fatiguePROs = pd.read_csv('data/raw/fatiguePROs.csv')\n",
    "fatiguePROs = fatiguePROs[~fatiguePROs['PROquestion'].str.contains('Did you do sport today?')]"
   ]
  },
  {
   "cell_type": "code",
   "execution_count": 3,
   "metadata": {},
   "outputs": [
    {
     "data": {
      "text/plain": [
       "SubjectID\n",
       "24    133.0\n",
       "23     74.0\n",
       "27     63.0\n",
       "26     57.0\n",
       "25     26.0\n",
       "15     12.0\n",
       "8      10.0\n",
       "18     10.0\n",
       "22      9.0\n",
       "10      9.0\n",
       "4       8.0\n",
       "3       8.0\n",
       "12      8.0\n",
       "13      8.0\n",
       "21      8.0\n",
       "16      8.0\n",
       "17      8.0\n",
       "19      7.0\n",
       "1       7.0\n",
       "2       7.0\n",
       "14      7.0\n",
       "11      7.0\n",
       "9       7.0\n",
       "5       7.0\n",
       "6       6.0\n",
       "28      6.0\n",
       "20      4.0\n",
       "7       2.0\n",
       "Name: count, dtype: float64"
      ]
     },
     "execution_count": 3,
     "metadata": {},
     "output_type": "execute_result"
    }
   ],
   "source": [
    "fatiguePROs['SubjectID'].value_counts()/4 # how many days of data per subject"
   ]
  },
  {
   "cell_type": "code",
   "execution_count": 4,
   "metadata": {},
   "outputs": [],
   "source": [
    "# for each row in PROanswer_choice column, change \"never\" to 0, \"rarely\" to 1, \"sometimes\" to 2, \"often\" to 3, and \"always\" to 4\n",
    "# Path: data_preprocess.ipynb\n",
    "temp = fatiguePROs.copy()\n",
    "temp['PROanswer_choice'] = temp['PROanswer_choice'].replace(['Never', 'Sometimes', 'Regularly', 'Often', 'Always'], [0, 1, 2, 3, 4])\n",
    "# chanege \"worse\" to -1, \"same\" to 0, and \"better\" to 1\n",
    "temp['PROanswer_choice'] = temp['PROanswer_choice'].replace(['Worse', 'Same', 'Better'], [-1, 0, 1])\n",
    "# for any rows in PROanswer_value that is NaN, replace with the value in PROanswer_choice\n",
    "temp['PROanswer_value'] = temp['PROanswer_value'].fillna(temp['PROanswer_choice'])\n",
    "\n",
    "#remove the proanswer_choice column\n",
    "temp = temp.drop(columns=['PROanswer_choice'])\n",
    "# add a column where physical fatigue = PhF, mental fatigue = MnF, general fatigue = VAS, and better/worse = RelP\n",
    "temp['question'] = temp['PROquestion'].replace(['Physically, today how often did you feel exhausted?',\n",
    "                                                'Mentally, today how often did you feel exhausted?',\n",
    "                                                'Describe fatigue on a scale of 1 to 10, where 1 means you don’t feel tired at all and 10 means the worst tiredness you can imagine',\n",
    "                                                'Are you feeling better, worse or the same as yesterday?'],\n",
    "                                                ['PhF', 'MF', 'VAS', 'RelP'])\n",
    "\n",
    "#remove proquestion column\n",
    "temp = temp.drop(columns=['PROquestion'])\n",
    "# move the question column to where the PROquestion column was\n",
    "temp = temp[['SubjectID', 'DateTime', 'Timezone', 'question', 'PROanswer_value']]\n",
    "#save temp to data/fatiugePROs_processed.csv\n",
    "\n",
    "# temp.to_csv('data/fatiguePROs_processed.csv', index=False)\n"
   ]
  }
 ],
 "metadata": {
  "kernelspec": {
   "display_name": "Python 3",
   "language": "python",
   "name": "python3"
  },
  "language_info": {
   "codemirror_mode": {
    "name": "ipython",
    "version": 3
   },
   "file_extension": ".py",
   "mimetype": "text/x-python",
   "name": "python",
   "nbconvert_exporter": "python",
   "pygments_lexer": "ipython3",
   "version": "3.10.12"
  }
 },
 "nbformat": 4,
 "nbformat_minor": 2
}
