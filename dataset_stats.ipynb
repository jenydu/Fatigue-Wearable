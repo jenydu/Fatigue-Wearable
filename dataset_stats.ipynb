{
 "cells": [
  {
   "cell_type": "code",
   "execution_count": null,
   "metadata": {},
   "outputs": [],
   "source": [
    "import pandas as pd\n",
    "import numpy as np"
   ]
  },
  {
   "cell_type": "code",
   "execution_count": null,
   "metadata": {},
   "outputs": [],
   "source": [
    "date_format = '%d.%m.%y %H:%M'\n",
    "\n",
    "for i in range(1, 29):\n",
    "    file_path = 'data/raw/subjectID_' + str(i) + '.csv'\n",
    "    df = pd.read_csv(file_path)\n",
    "    # if there is an acitivity class column, drop it\n",
    "    if 'ActivityClass' in df.columns:\n",
    "        df = df.drop(['ActivityClass'], axis=1)\n",
    "    # if there is a galvanic skin response column, drop it\n",
    "    if 'GalvanicSkinResponse' in df.columns:\n",
    "        df = df.drop(['GalvanicSkinResponse'], axis=1)\n",
    "    df['Timestamp'] = pd.to_datetime(df['Timestamp'], format=date_format)\n",
    "    print('subjectID_' + str(i) + ':')\n",
    "    print('The number of weeks that the Timestamp column spans:')\n",
    "    print(df['Timestamp'].max() - df['Timestamp'].min())\n",
    "    print('The number of rows with missing values, and their percentage of the total number of rows:')\n",
    "    print(df.isnull().sum() / df.shape[0] * 100)\n",
    "    print('\\n')\n"
   ]
  }
 ],
 "metadata": {
  "language_info": {
   "name": "python"
  }
 },
 "nbformat": 4,
 "nbformat_minor": 2
}
